{
 "cells": [
  {
   "cell_type": "markdown",
   "id": "c1a12c1a-ddfe-443e-aef4-f4b6b2230255",
   "metadata": {},
   "source": [
    "## Import Required Packages"
   ]
  },
  {
   "cell_type": "code",
   "execution_count": 1,
   "id": "aaf43354-c178-4ee8-a74c-0778b9be83c4",
   "metadata": {},
   "outputs": [],
   "source": [
    "import re\n",
    "import numpy as np\n",
    "import pandas as pd\n",
    "import joblib\n",
    "import warnings\n",
    "\n",
    "warnings.filterwarnings(\"ignore\")"
   ]
  },
  {
   "cell_type": "markdown",
   "id": "b167bcd2-efa6-4a5c-b9a0-fba4c5cef87f",
   "metadata": {},
   "source": [
    "## Text Preprocessing"
   ]
  },
  {
   "cell_type": "code",
   "execution_count": 2,
   "id": "f6aa09c9-bdea-47d0-838e-7cf9d8afc12f",
   "metadata": {},
   "outputs": [],
   "source": [
    "def preprocess_text(text):\n",
    "    \"\"\"\n",
    "    Preprocesses the input text by converting to lowercase, removing special characters and punctuation,\n",
    "    and removing extra whitespaces.\n",
    "\n",
    "    Args:\n",
    "    text (str): The input text to preprocess.\n",
    "\n",
    "    Returns:\n",
    "    str: The preprocessed text.\n",
    "    \"\"\"\n",
    "    if isinstance(text, str):\n",
    "        # Convert to lowercase\n",
    "        text = text.lower()\n",
    "        # Remove special characters and punctuation\n",
    "        text = re.sub(r\"[^a-zA-Z0-9\\s]\", \"\", text)\n",
    "        # Remove extra whitespaces\n",
    "        text = re.sub(r\"\\s+\", \" \", text).strip()\n",
    "    return text"
   ]
  },
  {
   "cell_type": "markdown",
   "id": "16bc66e8-9633-4753-a068-dafeab103a04",
   "metadata": {},
   "source": [
    "## Recommendation Call"
   ]
  },
  {
   "cell_type": "code",
   "execution_count": 3,
   "id": "f9115c7e-d22c-473d-aa68-c9f679e72c54",
   "metadata": {},
   "outputs": [],
   "source": [
    "def recommend_course(input_string, df, cv_file, similarity_file):\n",
    "    \"\"\"\n",
    "    Recommends courses based on the input string.\n",
    "\n",
    "    Args:\n",
    "    input_string (str): The input string representing the user's query.\n",
    "    df (DataFrame): The DataFrame containing course information.\n",
    "    cv_file (str): The file path to the saved CountVectorizer object.\n",
    "    similarity_file (str): The file path to the saved similarity matrix.\n",
    "\n",
    "    Returns:\n",
    "    list: A list of tuples containing the top recommended courses along with their similarity scores.\n",
    "    \"\"\"\n",
    "    # Preprocess input string\n",
    "    input_string = preprocess_text(input_string)\n",
    "\n",
    "    # Load CountVectorizer object\n",
    "    cv = joblib.load(cv_file)\n",
    "\n",
    "    # Transform input string using the loaded CountVectorizer\n",
    "    input_vector = cv.transform([input_string]).toarray()\n",
    "\n",
    "    # Load similarity matrix\n",
    "    similarity_matrix = np.load(similarity_file)\n",
    "\n",
    "    # Calculate similarity with input string\n",
    "    input_similarity = np.dot(input_vector, similarity_matrix.T)\n",
    "\n",
    "    # Find top similar courses\n",
    "    similar_courses = []\n",
    "    for i in range(len(input_similarity[0])):\n",
    "        similar_courses.append((df.iloc[i], input_similarity[0][i]))\n",
    "\n",
    "    # Sort and return top recommendations\n",
    "    similar_courses = sorted(similar_courses, reverse=True, key=lambda x: x[1])\n",
    "    return similar_courses[:3]"
   ]
  },
  {
   "cell_type": "markdown",
   "id": "a9930169-57f2-4d2f-b510-93b64848226a",
   "metadata": {},
   "source": [
    "## Recommendation Test"
   ]
  },
  {
   "cell_type": "code",
   "execution_count": 4,
   "id": "aa7f0196-3f0c-408b-96d3-b29662e06036",
   "metadata": {},
   "outputs": [
    {
     "name": "stdout",
     "output_type": "stream",
     "text": [
      "Top recommended courses:\n",
      "course_title: Android App Development\n",
      "course_organization: Vanderbilt University\n",
      "course_certificate_type: Specialization\n",
      "course_time: 3 - 6 Months\n",
      "course_rating: 4.8\n",
      "course_reviews_num: 3.5k\n",
      "course_difficulty: Beginner\n",
      "course_url: https://www.coursera.org/specializations/android-app-development\n",
      "course_students_enrolled: 67,777\n",
      "course_skills: ['Software Testing', 'Android Software Development', 'Java Programming', 'Junit']\n",
      "course_summary: ['Understand the major organ systems, their functions and relationships within the body.']\n",
      "course_description: In this Specialization you will explore human anatomy using a systems approach, and a vast library of multimedia materials, so you may understand the features of different organ systems in relation to the human body’s form and function.\n",
      "This Specialization covers the following organ systems:\n",
      "   Integumentary System\n",
      "   Musculoskeletal System\n",
      "   Cardiovascular System\n",
      "   Respiratory System\n",
      "   Urinary System\n",
      "   Nervous System\n",
      "   Gastrointestinal System\n",
      "   Reproductive System\n",
      "   Endocrine System\n",
      "This Specialization takes advantage of a highly visual multimedia library of accurate anatomical models and materials to help you better understand the topics.\n",
      "\n",
      "\n",
      "\n",
      "course_title: CompTIA a+_ cyber\n",
      "course_organization: CompTIA\n",
      "course_certificate_type: Specialization\n",
      "course_time: 1 - 3 Months\n",
      "course_rating: 3.0\n",
      "course_reviews_num: 17\n",
      "course_difficulty: Beginner\n",
      "course_url: https://www.coursera.org/specializations/comptia-aplus-cyber\n",
      "course_students_enrolled: nan\n",
      "course_skills: ['Data Management', 'Data Security', 'Cyberattacks', 'Bash (Unix Shell)', 'Linux Console', 'Operating Systems', 'System Security', 'Network Security', 'Cloud Computing Security', 'Computer Security Incident Management', 'Computer Network', 'Shell Script']\n",
      "course_summary: ['Create and execute a Python program using the IDE. ', 'Write and run code to display a phrase in several languages. ', 'Recognize programming concepts. ']\n",
      "course_description: In this guided project you will gain hands-on experience exploring an Integrated Development Environment (IDE), creating a Python program using the IDE, and  writing and running code in several languages. You will learn how to display a phrase in multiple languages including C, Java, Go, Python, Node JS, Ruby, PHP, PERL, Bash, C++, and HTML. You will also learn how to recognize programming concepts, demonstrate use of variables in a program, and gain the ability to execute programming logic using if-then statements. \n",
      "When you complete this guided project, you can earn a shareable badge to display your Coding skills and gain additional Coding knowledge when you enroll in Introduction to Cybersecurity Essentials which is part of the Information Technology (IT) and Cloud Fundamentals Specialization. \n",
      "\n",
      "The IT and Cloud Fundamentals Specialization provides prerequisite skills for almost all IT careers, including technical support specialist, data analyst, data scientist, software engineer, systems administrator, and IT manager. With this specialization, you'll acquire hardware, operating systems, programming, database, networking, storage, cybersecurity, and cloud computing knowledge and skills that prepare you for an entry-level IT role. Also, this specialization will help you understand and manage IT responsibilities within your organization. \n",
      "\n",
      "Introduction to Cybersecurity Essentials is also part of the IBM Technical Support Professional Certificate. The IBM Technical Support Professional Certificate prepares you for a job as a technical support professional. In as little as 3 months, you can develop job-ready skills valued by employers in the Technical Support field. You will learn the foundations of IT support and develop hands-on knowledge of operating systems and networking, cybersecurity, cloud computing, and providing end-to-end customer support. \n",
      "\n",
      "No experience is necessary to participate in this guided project. All you need are basic computer operating skills. \n",
      "\n",
      "Learn without limitations. Enroll today!\n",
      "\n",
      "\n",
      "course_title: Core Java\n",
      "course_organization: LearnQuest\n",
      "course_certificate_type: Specialization\n",
      "course_time: 3 - 6 Months\n",
      "course_rating: 4.8\n",
      "course_reviews_num: 8.6k\n",
      "course_difficulty: Intermediate\n",
      "course_url: https://www.coursera.org/specializations/core-java\n",
      "course_students_enrolled: 513,150\n",
      "course_skills: ['Computer Programming', 'Java Programming', 'Web Development']\n",
      "course_summary: []\n",
      "course_description: En este curso, ofrecido por la UNAM, vas a entrar al  fascinante mundo de la contabilidad. Esta técnica te permitirá tomar decisiones en tu vida empresarial, corporativa, personal, profesional y de emprendedor. Entrarás al mundo de la Contabilidad para no Contadores. \n",
      "Vas a lograr definir qué es la contabilidad, en qué consiste y cuáles son sus principios fundamentales. También descubrirás su utilidad en tu vida cotidiana y al profesional al que debes recurrir y confiar tu vida contable.  Además, podrás saber qué nos dice la información financiera, qué y cómo debemos leerla y qué decisiones tomar basados en ella.\n",
      "\n",
      "Prepárate para conocer los principales Estados financieros, sus elementos y su utilidad en tu vida contable.\n",
      "\n",
      "¡Bienvenid@!\n",
      "\n",
      "\n"
     ]
    }
   ],
   "source": [
    "# Load DataFrame containing course information\n",
    "df = pd.read_csv(\"../data/courses.csv\")\n",
    "\n",
    "# File paths for CountVectorizer and similarity matrix\n",
    "cv_file = \"../models/count_vectorizer.pkl\"\n",
    "similarity_file = \"../models/similarity_matrix.npy\"\n",
    "\n",
    "# Get recommendations\n",
    "recommendations = recommend_course(\"Java\", df, cv_file, similarity_file)\n",
    "print(\"Top recommended courses:\")\n",
    "for course, similarity_score in recommendations:\n",
    "    for column_name, value in course.items():\n",
    "        print(f\"{column_name}: {value}\")\n",
    "    print()"
   ]
  },
  {
   "cell_type": "markdown",
   "id": "5fba6b81-aa28-4a76-9103-0e6c7b6f0175",
   "metadata": {},
   "source": [
    "## Chatbot Building"
   ]
  },
  {
   "cell_type": "code",
   "execution_count": 5,
   "id": "f05aa25f-a3ee-486e-8054-1526b490e7cf",
   "metadata": {},
   "outputs": [
    {
     "name": "stdout",
     "output_type": "stream",
     "text": [
      "Running on local URL:  http://127.0.0.1:7860\n",
      "Running on public URL: https://c68a2daebfda5dcb0d.gradio.live\n",
      "\n",
      "This share link expires in 72 hours. For free permanent hosting and GPU upgrades, run `gradio deploy` from Terminal to deploy to Spaces (https://huggingface.co/spaces)\n"
     ]
    },
    {
     "data": {
      "text/html": [
       "<div><iframe src=\"https://c68a2daebfda5dcb0d.gradio.live\" width=\"100%\" height=\"500\" allow=\"autoplay; camera; microphone; clipboard-read; clipboard-write;\" frameborder=\"0\" allowfullscreen></iframe></div>"
      ],
      "text/plain": [
       "<IPython.core.display.HTML object>"
      ]
     },
     "metadata": {},
     "output_type": "display_data"
    },
    {
     "data": {
      "text/plain": []
     },
     "execution_count": 5,
     "metadata": {},
     "output_type": "execute_result"
    }
   ],
   "source": [
    "import gradio as gr\n",
    "import textwrap\n",
    "\n",
    "\n",
    "def chatbot(message, history):\n",
    "    \"\"\"\n",
    "    Responds to user messages by recommending courses based on the message content.\n",
    "\n",
    "    Args:\n",
    "        message (str): The user's message.\n",
    "        history (list): History of previous messages (not used in this function).\n",
    "\n",
    "    Returns:\n",
    "        str: Response message recommending courses or asking for a valid message.\n",
    "    \"\"\"\n",
    "    if message.strip() != \"\":\n",
    "        # Call the recommend_course function to get course recommendations\n",
    "        recommendations = recommend_course(message, df, cv_file, similarity_file)\n",
    "        if recommendations:\n",
    "            response = \"Top recommended courses:\\n\"\n",
    "            # Iterate over recommended courses and format the response message\n",
    "            for i, (course, similarity_score) in enumerate(recommendations, 1):\n",
    "                for column_name, value in course.items():\n",
    "                    response += f\"   {column_name.capitalize()}: {value}\\n\"\n",
    "                response += \"\\n\"\n",
    "            return response\n",
    "        else:\n",
    "            return \"No courses found matching your query.\"\n",
    "    else:\n",
    "        return \"Please enter a valid message.\"\n",
    "\n",
    "\n",
    "iface = gr.ChatInterface(\n",
    "    chatbot,\n",
    "    chatbot=gr.Chatbot(height=300),\n",
    "    textbox=gr.Textbox(\n",
    "        placeholder=\"Ask me a yes or no question\", container=False, scale=7\n",
    "    ),\n",
    "    description=\"Ask questions about Jobs & Courses\",\n",
    "    examples=[\n",
    "        \"Do you have any suggestions for a Python course?\",\n",
    "        \"What are the best courses for learning data science?\",\n",
    "        \"Can you recommend a course for web development?\",\n",
    "        \"I'm interested in machine learning. Any recommendations?\",\n",
    "    ],\n",
    "    retry_btn=None,\n",
    "    undo_btn=\"Delete Previous\",\n",
    "    clear_btn=\"Clear\",\n",
    "    title=\"Chat with Bot\",\n",
    ")\n",
    "iface.launch(share=True)"
   ]
  }
 ],
 "metadata": {
  "kernelspec": {
   "display_name": "Python 3 (ipykernel)",
   "language": "python",
   "name": "python3"
  },
  "language_info": {
   "codemirror_mode": {
    "name": "ipython",
    "version": 3
   },
   "file_extension": ".py",
   "mimetype": "text/x-python",
   "name": "python",
   "nbconvert_exporter": "python",
   "pygments_lexer": "ipython3",
   "version": "3.11.5"
  }
 },
 "nbformat": 4,
 "nbformat_minor": 5
}
