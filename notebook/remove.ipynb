{
 "cells": [
  {
   "cell_type": "markdown",
   "id": "9332f497-2a51-47c8-bd32-894805ca04e6",
   "metadata": {},
   "source": [
    "## Import Required Packages"
   ]
  },
  {
   "cell_type": "code",
   "execution_count": 1,
   "id": "9df8017e-ce1a-4536-b65e-4c4537badea3",
   "metadata": {},
   "outputs": [],
   "source": [
    "import os\n",
    "import glob\n",
    "import shutil\n",
    "import pandas as pd"
   ]
  },
  {
   "cell_type": "code",
   "execution_count": 2,
   "id": "bcbd9a71-3fd3-494c-941e-3a7f07de2f21",
   "metadata": {},
   "outputs": [
    {
     "name": "stdout",
     "output_type": "stream",
     "text": [
      "Directory and its contents removed successfully.\n"
     ]
    }
   ],
   "source": [
    "# Check if the directory exists\n",
    "if os.path.exists(\"../data/courses/edx\"):\n",
    "    # Remove the directory and its contents\n",
    "    try:\n",
    "        shutil.rmtree(\"../data/courses/edx\")\n",
    "        print(\"Directory and its contents removed successfully.\")\n",
    "    except OSError as e:\n",
    "        print(f\"Error: {e.strerror}\")\n",
    "else:\n",
    "    # Directory does not exist\n",
    "    print(\"Directory does not exist.\")"
   ]
  },
  {
   "cell_type": "markdown",
   "id": "bf1a3604-68e0-439b-9a47-cc12c6ecd466",
   "metadata": {},
   "source": [
    "## Combine udemy courses files"
   ]
  },
  {
   "cell_type": "code",
   "execution_count": 3,
   "id": "26ec7617-6a34-4968-81a0-030b84f1f25b",
   "metadata": {},
   "outputs": [
    {
     "data": {
      "text/plain": [
       "['../data/courses/udemy\\\\udemy_courses_01.csv',\n",
       " '../data/courses/udemy\\\\udemy_courses_02.csv',\n",
       " '../data/courses/udemy\\\\udemy_courses_03.csv',\n",
       " '../data/courses/udemy\\\\udemy_courses_04.csv',\n",
       " '../data/courses/udemy\\\\udemy_courses_05.csv',\n",
       " '../data/courses/udemy\\\\udemy_courses_06.csv',\n",
       " '../data/courses/udemy\\\\udemy_courses_07.csv',\n",
       " '../data/courses/udemy\\\\udemy_courses_08.csv',\n",
       " '../data/courses/udemy\\\\udemy_courses_09.csv',\n",
       " '../data/courses/udemy\\\\udemy_courses_10.csv',\n",
       " '../data/courses/udemy\\\\udemy_courses_11.csv',\n",
       " '../data/courses/udemy\\\\udemy_courses_12.csv',\n",
       " '../data/courses/udemy\\\\udemy_courses_13.csv',\n",
       " '../data/courses/udemy\\\\udemy_courses_14.csv',\n",
       " '../data/courses/udemy\\\\udemy_courses_15.csv',\n",
       " '../data/courses/udemy\\\\udemy_courses_16.csv',\n",
       " '../data/courses/udemy\\\\udemy_courses_17.csv',\n",
       " '../data/courses/udemy\\\\udemy_courses_18.csv',\n",
       " '../data/courses/udemy\\\\udemy_courses_19.csv',\n",
       " '../data/courses/udemy\\\\udemy_courses_20.csv',\n",
       " '../data/courses/udemy\\\\udemy_courses_21.csv',\n",
       " '../data/courses/udemy\\\\udemy_courses_22.csv',\n",
       " '../data/courses/udemy\\\\udemy_courses_23.csv',\n",
       " '../data/courses/udemy\\\\udemy_courses_24.csv',\n",
       " '../data/courses/udemy\\\\udemy_courses_25.csv']"
      ]
     },
     "execution_count": 3,
     "metadata": {},
     "output_type": "execute_result"
    }
   ],
   "source": [
    "# Use glob to get all CSV files in the directory\n",
    "file_paths = glob.glob(os.path.join(\"../data/courses/udemy\", \"*.csv\"))\n",
    "file_paths"
   ]
  },
  {
   "cell_type": "code",
   "execution_count": 4,
   "id": "6cac509d-3378-4a83-9ce3-351dce9c18b7",
   "metadata": {},
   "outputs": [
    {
     "data": {
      "text/plain": [
       "'../data/courses/udemy\\\\udemy.csv'"
      ]
     },
     "execution_count": 4,
     "metadata": {},
     "output_type": "execute_result"
    }
   ],
   "source": [
    "# Check if udemy.csv already exists in the directory\n",
    "output_file_path = os.path.join(\"../data/courses/udemy\", \"udemy.csv\")\n",
    "output_file_path"
   ]
  },
  {
   "cell_type": "code",
   "execution_count": 5,
   "id": "c152ae99-784f-4642-925b-5528bfa6b4d0",
   "metadata": {},
   "outputs": [
    {
     "name": "stdout",
     "output_type": "stream",
     "text": [
      "udemy.csv created successfully.\n"
     ]
    }
   ],
   "source": [
    "if os.path.exists(output_file_path):\n",
    "    print(\"udemy.csv already exists. Skipping concatenation.\")\n",
    "else:\n",
    "    # Read all CSV files and store them in a list of DataFrames\n",
    "    dfs = [pd.read_csv(file) for file in file_paths]\n",
    "\n",
    "    # Concatenate all DataFrames into a single DataFrame\n",
    "    combined_df = pd.concat(dfs, ignore_index=True)\n",
    "\n",
    "    # Store the combined DataFrame as \"udemy.csv\"\n",
    "    combined_df.to_csv(output_file_path, index=False)\n",
    "    print(\"udemy.csv created successfully.\")"
   ]
  },
  {
   "cell_type": "markdown",
   "id": "972e7acc-3ab6-4fcb-afbc-6bbb892e55e0",
   "metadata": {},
   "source": [
    "## Remove all udemy individual files"
   ]
  },
  {
   "cell_type": "code",
   "execution_count": 6,
   "id": "6b22cfd3-6033-4860-b502-2756ee9fe2c7",
   "metadata": {},
   "outputs": [
    {
     "name": "stdout",
     "output_type": "stream",
     "text": [
      "Individual CSV files removed successfully.\n"
     ]
    }
   ],
   "source": [
    "# Remove individual CSV files except udemy.csv\n",
    "if file_paths:\n",
    "    for file_path in file_paths:\n",
    "        if file_path != output_file_path:\n",
    "            os.remove(file_path)\n",
    "print(\"Individual CSV files removed successfully.\")"
   ]
  }
 ],
 "metadata": {
  "kernelspec": {
   "display_name": "Python 3 (ipykernel)",
   "language": "python",
   "name": "python3"
  },
  "language_info": {
   "codemirror_mode": {
    "name": "ipython",
    "version": 3
   },
   "file_extension": ".py",
   "mimetype": "text/x-python",
   "name": "python",
   "nbconvert_exporter": "python",
   "pygments_lexer": "ipython3",
   "version": "3.11.5"
  }
 },
 "nbformat": 4,
 "nbformat_minor": 5
}
