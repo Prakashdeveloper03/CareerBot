{
 "cells": [
  {
   "cell_type": "markdown",
   "id": "d583b217-af46-4054-b7b3-b631176bb5fe",
   "metadata": {},
   "source": [
    "## Import Required Packages"
   ]
  },
  {
   "cell_type": "code",
   "execution_count": 1,
   "id": "15188668-e539-4262-8e92-7d99fe13399c",
   "metadata": {},
   "outputs": [],
   "source": [
    "import csv\n",
    "import json"
   ]
  },
  {
   "cell_type": "markdown",
   "id": "9ca8096f-796a-4ad5-9221-97bab64aab6f",
   "metadata": {},
   "source": [
    "## Extract Skills from Job description"
   ]
  },
  {
   "cell_type": "code",
   "execution_count": 2,
   "id": "6c1b3c31-a2b9-49c9-b6c6-4e685cf09176",
   "metadata": {},
   "outputs": [],
   "source": [
    "from typing import Dict, List\n",
    "\n",
    "\n",
    "def extract_skills_from_csv(csv_file: str) -> Dict[str, List[str]]:\n",
    "    \"\"\"\n",
    "    Extracts skills from a CSV file containing job titles and associated skills.\n",
    "\n",
    "    Args:\n",
    "    csv_file (str): Path to the CSV file.\n",
    "\n",
    "    Returns:\n",
    "    Dict[str, List[str]]: A dictionary where keys are job titles and values are lists of skills.\n",
    "    \"\"\"\n",
    "    # Initialize an empty dictionary to store job titles and associated skills\n",
    "    job_skills = {}\n",
    "\n",
    "    # Open the CSV file in read mode\n",
    "    with open(csv_file, \"r\") as file:\n",
    "        # Create a CSV DictReader object\n",
    "        reader = csv.DictReader(file)\n",
    "\n",
    "        # Iterate over each row in the CSV file\n",
    "        for row in reader:\n",
    "            # Extract the job title from the current row\n",
    "            title = row[\"Job Title\"]\n",
    "\n",
    "            # Extract skills from the current row and split them by comma and space\n",
    "            skills = row[\"Skill\"].split(\", \")\n",
    "\n",
    "            # Store the job title and associated skills in the dictionary\n",
    "            job_skills[title] = skills\n",
    "\n",
    "    # Return the dictionary containing job titles and associated skills\n",
    "    return job_skills"
   ]
  },
  {
   "cell_type": "markdown",
   "id": "4287705c-94aa-4784-bb1c-55bbb5a2b2f4",
   "metadata": {},
   "source": [
    "## Generate Intent Patterns"
   ]
  },
  {
   "cell_type": "code",
   "execution_count": 3,
   "id": "7a87edae-9e07-4aeb-bf0e-4110b3175d10",
   "metadata": {},
   "outputs": [],
   "source": [
    "def generate_json_structure(\n",
    "    job_skills: Dict[str, List[str]]\n",
    ") -> Dict[str, List[Dict[str, List[str]]]]:\n",
    "    \"\"\"\n",
    "    Generates a JSON structure representing intents and responses based on job titles and associated skills.\n",
    "\n",
    "    Args:\n",
    "    job_skills (Dict[str, List[str]]): A dictionary where keys are job titles and values are lists of skills.\n",
    "\n",
    "    Returns:\n",
    "    Dict[str, List[Dict[str, List[str]]]]: A dictionary representing intents and responses.\n",
    "    \"\"\"\n",
    "    # Initialize an empty list to store intents\n",
    "    intents = []\n",
    "\n",
    "    # Iterate over each job title and associated skills\n",
    "    for job_title, skills in job_skills.items():\n",
    "        # Join the skills into a formatted string\n",
    "        skills_list = \"\\n\".join([f\"- {skill}\" for skill in skills])\n",
    "\n",
    "        # Create an intent dictionary\n",
    "        intent = {\n",
    "            \"tag\": job_title.lower().replace(\" \", \"_\"),\n",
    "            \"patterns\": [\n",
    "                f\"What skills are required for {job_title}?\",\n",
    "                f\"Skills for {job_title}\",\n",
    "                f\"What are the prerequisites for {job_title}?\",\n",
    "                f\"List the required skills for {job_title}\",\n",
    "                f\"Which skills do I need to become a {job_title}?\",\n",
    "            ],\n",
    "            \"responses\": [\n",
    "                f\"To become a {job_title}, you'll need the following skills:\\n{skills_list}.\",\n",
    "                f\"The essential skills for {job_title} include:\\n{skills_list}.\",\n",
    "                f\"Here are the skills required to excel as a {job_title}:\\n{skills_list}.\",\n",
    "                f\"Here's a list of skills you'll need for {job_title}:\\n{skills_list}.\",\n",
    "            ],\n",
    "        }\n",
    "\n",
    "        # Append the intent to the list of intents\n",
    "        intents.append(intent)\n",
    "\n",
    "    # Return the JSON structure\n",
    "    return {\"intents\": intents}"
   ]
  },
  {
   "cell_type": "markdown",
   "id": "b86ab31c-60c3-4ddc-b852-476ef8500a1a",
   "metadata": {},
   "source": [
    "## Save the JSON data"
   ]
  },
  {
   "cell_type": "code",
   "execution_count": 4,
   "id": "b68e531b-ae88-4b2b-9c9d-a28ae5eb741d",
   "metadata": {},
   "outputs": [
    {
     "name": "stdout",
     "output_type": "stream",
     "text": [
      "Conversion completed. JSON file has been generated.\n"
     ]
    }
   ],
   "source": [
    "# Define the path to the CSV file containing job titles and associated skills\n",
    "csv_file = \"../data/keywords.csv\"\n",
    "\n",
    "# Define the path to the JSON file where the intents will be stored\n",
    "json_file = \"../data/intents.json\"\n",
    "\n",
    "# Extract skills from the CSV file and store them in a dictionary\n",
    "job_skills = extract_skills_from_csv(csv_file)\n",
    "\n",
    "# Generate a JSON structure representing intents and responses based on the extracted skills\n",
    "intents_json = generate_json_structure(job_skills)\n",
    "\n",
    "# Write the JSON structure to a file\n",
    "with open(json_file, \"w\") as outfile:\n",
    "    json.dump(intents_json, outfile, indent=2)\n",
    "print(\"Conversion completed. JSON file has been generated.\")"
   ]
  }
 ],
 "metadata": {
  "kernelspec": {
   "display_name": "Python 3 (ipykernel)",
   "language": "python",
   "name": "python3"
  },
  "language_info": {
   "codemirror_mode": {
    "name": "ipython",
    "version": 3
   },
   "file_extension": ".py",
   "mimetype": "text/x-python",
   "name": "python",
   "nbconvert_exporter": "python",
   "pygments_lexer": "ipython3",
   "version": "3.11.5"
  }
 },
 "nbformat": 4,
 "nbformat_minor": 5
}
