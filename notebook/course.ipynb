{
 "cells": [
  {
   "cell_type": "markdown",
   "id": "198997c5",
   "metadata": {
    "papermill": {
     "duration": 0.049216,
     "end_time": "2022-01-26T14:19:43.233990",
     "exception": false,
     "start_time": "2022-01-26T14:19:43.184774",
     "status": "completed"
    },
    "tags": []
   },
   "source": [
    "# Importing Dependencies"
   ]
  },
  {
   "cell_type": "code",
   "execution_count": 1,
   "id": "f75344c5",
   "metadata": {
    "papermill": {
     "duration": 1.112674,
     "end_time": "2022-01-26T14:19:44.396964",
     "exception": false,
     "start_time": "2022-01-26T14:19:43.284290",
     "status": "completed"
    },
    "tags": []
   },
   "outputs": [],
   "source": [
    "import os\n",
    "import numpy as np\n",
    "import pandas as pd\n",
    "import matplotlib.pyplot as plt\n",
    "import seaborn as sns"
   ]
  },
  {
   "cell_type": "markdown",
   "id": "2abc3442-16fc-4f15-b0c1-e79a602bfbf9",
   "metadata": {},
   "source": [
    "## Load the dataset"
   ]
  },
  {
   "cell_type": "code",
   "execution_count": 2,
   "id": "e3536ee1",
   "metadata": {
    "papermill": {
     "duration": 0.253163,
     "end_time": "2022-01-26T14:19:44.701566",
     "exception": false,
     "start_time": "2022-01-26T14:19:44.448403",
     "status": "completed"
    },
    "tags": []
   },
   "outputs": [
    {
     "data": {
      "text/html": [
       "<div>\n",
       "<style scoped>\n",
       "    .dataframe tbody tr th:only-of-type {\n",
       "        vertical-align: middle;\n",
       "    }\n",
       "\n",
       "    .dataframe tbody tr th {\n",
       "        vertical-align: top;\n",
       "    }\n",
       "\n",
       "    .dataframe thead th {\n",
       "        text-align: right;\n",
       "    }\n",
       "</style>\n",
       "<table border=\"1\" class=\"dataframe\">\n",
       "  <thead>\n",
       "    <tr style=\"text-align: right;\">\n",
       "      <th></th>\n",
       "      <th>course_title</th>\n",
       "      <th>course_organization</th>\n",
       "      <th>course_certificate_type</th>\n",
       "      <th>course_time</th>\n",
       "      <th>course_rating</th>\n",
       "      <th>course_reviews_num</th>\n",
       "      <th>course_difficulty</th>\n",
       "      <th>course_url</th>\n",
       "      <th>course_students_enrolled</th>\n",
       "      <th>course_skills</th>\n",
       "      <th>course_summary</th>\n",
       "      <th>course_description</th>\n",
       "    </tr>\n",
       "  </thead>\n",
       "  <tbody>\n",
       "    <tr>\n",
       "      <th>0</th>\n",
       "      <td>(ISC)² Systems Security Certified Practitioner...</td>\n",
       "      <td>ISC2</td>\n",
       "      <td>Specialization</td>\n",
       "      <td>3 - 6 Months</td>\n",
       "      <td>4.7</td>\n",
       "      <td>492</td>\n",
       "      <td>Beginner</td>\n",
       "      <td>https://www.coursera.org/specializations/sscp-...</td>\n",
       "      <td>6,958</td>\n",
       "      <td>['Risk Management', 'Access Control', 'Asset',...</td>\n",
       "      <td>[]</td>\n",
       "      <td>Pursue better IT security job opportunities an...</td>\n",
       "    </tr>\n",
       "    <tr>\n",
       "      <th>1</th>\n",
       "      <td>.NET FullStack Developer</td>\n",
       "      <td>Board Infinity</td>\n",
       "      <td>Specialization</td>\n",
       "      <td>1 - 3 Months</td>\n",
       "      <td>4.3</td>\n",
       "      <td>51</td>\n",
       "      <td>Intermediate</td>\n",
       "      <td>https://www.coursera.org/specializations/dot-n...</td>\n",
       "      <td>2,531</td>\n",
       "      <td>['Web API', 'Web Development', 'Cascading Styl...</td>\n",
       "      <td>['Master .NET full stack web dev: from .NET co...</td>\n",
       "      <td>Develop the proficiency required to design and...</td>\n",
       "    </tr>\n",
       "    <tr>\n",
       "      <th>2</th>\n",
       "      <td>21st Century Energy Transition: how do we make...</td>\n",
       "      <td>University of Alberta</td>\n",
       "      <td>Course</td>\n",
       "      <td>1 - 3 Months</td>\n",
       "      <td>4.8</td>\n",
       "      <td>62</td>\n",
       "      <td>Beginner</td>\n",
       "      <td>https://www.coursera.org/learn/21st-century-en...</td>\n",
       "      <td>4,377</td>\n",
       "      <td>[]</td>\n",
       "      <td>['Understand the complexity of systems supplyi...</td>\n",
       "      <td>Affordable, abundant and reliable energy is fu...</td>\n",
       "    </tr>\n",
       "    <tr>\n",
       "      <th>3</th>\n",
       "      <td>A Crash Course in Causality:  Inferring Causal...</td>\n",
       "      <td>University of Pennsylvania</td>\n",
       "      <td>Course</td>\n",
       "      <td>1 - 3 Months</td>\n",
       "      <td>4.7</td>\n",
       "      <td>517</td>\n",
       "      <td>Intermediate</td>\n",
       "      <td>https://www.coursera.org/learn/crash-course-in...</td>\n",
       "      <td>39,004</td>\n",
       "      <td>['Instrumental Variable', 'Propensity Score Ma...</td>\n",
       "      <td>[]</td>\n",
       "      <td>We have all heard the phrase “correlation does...</td>\n",
       "    </tr>\n",
       "    <tr>\n",
       "      <th>4</th>\n",
       "      <td>A life with ADHD</td>\n",
       "      <td>University of Geneva</td>\n",
       "      <td>Course</td>\n",
       "      <td>1 - 3 Months</td>\n",
       "      <td>NaN</td>\n",
       "      <td>NaN</td>\n",
       "      <td>Beginner</td>\n",
       "      <td>https://www.coursera.org/learn/life-with-adhd</td>\n",
       "      <td>NaN</td>\n",
       "      <td>['differential diagnosis and comorbidities', '...</td>\n",
       "      <td>[' Understand what ADHD is and the challenges ...</td>\n",
       "      <td>What is ADHD and what are the challenges that ...</td>\n",
       "    </tr>\n",
       "  </tbody>\n",
       "</table>\n",
       "</div>"
      ],
      "text/plain": [
       "                                        course_title  \\\n",
       "0  (ISC)² Systems Security Certified Practitioner...   \n",
       "1                           .NET FullStack Developer   \n",
       "2  21st Century Energy Transition: how do we make...   \n",
       "3  A Crash Course in Causality:  Inferring Causal...   \n",
       "4                                   A life with ADHD   \n",
       "\n",
       "          course_organization course_certificate_type   course_time  \\\n",
       "0                        ISC2          Specialization  3 - 6 Months   \n",
       "1              Board Infinity          Specialization  1 - 3 Months   \n",
       "2       University of Alberta                  Course  1 - 3 Months   \n",
       "3  University of Pennsylvania                  Course  1 - 3 Months   \n",
       "4        University of Geneva                  Course  1 - 3 Months   \n",
       "\n",
       "   course_rating course_reviews_num course_difficulty  \\\n",
       "0            4.7                492          Beginner   \n",
       "1            4.3                 51      Intermediate   \n",
       "2            4.8                 62          Beginner   \n",
       "3            4.7                517      Intermediate   \n",
       "4            NaN                NaN          Beginner   \n",
       "\n",
       "                                          course_url course_students_enrolled  \\\n",
       "0  https://www.coursera.org/specializations/sscp-...                    6,958   \n",
       "1  https://www.coursera.org/specializations/dot-n...                    2,531   \n",
       "2  https://www.coursera.org/learn/21st-century-en...                    4,377   \n",
       "3  https://www.coursera.org/learn/crash-course-in...                   39,004   \n",
       "4      https://www.coursera.org/learn/life-with-adhd                      NaN   \n",
       "\n",
       "                                       course_skills  \\\n",
       "0  ['Risk Management', 'Access Control', 'Asset',...   \n",
       "1  ['Web API', 'Web Development', 'Cascading Styl...   \n",
       "2                                                 []   \n",
       "3  ['Instrumental Variable', 'Propensity Score Ma...   \n",
       "4  ['differential diagnosis and comorbidities', '...   \n",
       "\n",
       "                                      course_summary  \\\n",
       "0                                                 []   \n",
       "1  ['Master .NET full stack web dev: from .NET co...   \n",
       "2  ['Understand the complexity of systems supplyi...   \n",
       "3                                                 []   \n",
       "4  [' Understand what ADHD is and the challenges ...   \n",
       "\n",
       "                                  course_description  \n",
       "0  Pursue better IT security job opportunities an...  \n",
       "1  Develop the proficiency required to design and...  \n",
       "2  Affordable, abundant and reliable energy is fu...  \n",
       "3  We have all heard the phrase “correlation does...  \n",
       "4  What is ADHD and what are the challenges that ...  "
      ]
     },
     "execution_count": 2,
     "metadata": {},
     "output_type": "execute_result"
    }
   ],
   "source": [
    "data = pd.read_csv(\"../data/courses.csv\")\n",
    "data.head(5)"
   ]
  },
  {
   "cell_type": "markdown",
   "id": "8108389a",
   "metadata": {
    "papermill": {
     "duration": 0.050258,
     "end_time": "2022-01-26T14:19:44.802615",
     "exception": false,
     "start_time": "2022-01-26T14:19:44.752357",
     "status": "completed"
    },
    "tags": []
   },
   "source": [
    "## Understanding the dataset"
   ]
  },
  {
   "cell_type": "code",
   "execution_count": 3,
   "id": "100f65ea",
   "metadata": {
    "papermill": {
     "duration": 0.059633,
     "end_time": "2022-01-26T14:19:44.912776",
     "exception": false,
     "start_time": "2022-01-26T14:19:44.853143",
     "status": "completed"
    },
    "tags": []
   },
   "outputs": [
    {
     "data": {
      "text/plain": [
       "(1000, 12)"
      ]
     },
     "execution_count": 3,
     "metadata": {},
     "output_type": "execute_result"
    }
   ],
   "source": [
    "data.shape"
   ]
  },
  {
   "cell_type": "code",
   "execution_count": 4,
   "id": "0993059a",
   "metadata": {
    "papermill": {
     "duration": 0.097295,
     "end_time": "2022-01-26T14:19:45.061496",
     "exception": false,
     "start_time": "2022-01-26T14:19:44.964201",
     "status": "completed"
    },
    "tags": []
   },
   "outputs": [
    {
     "name": "stdout",
     "output_type": "stream",
     "text": [
      "<class 'pandas.core.frame.DataFrame'>\n",
      "RangeIndex: 1000 entries, 0 to 999\n",
      "Data columns (total 12 columns):\n",
      " #   Column                    Non-Null Count  Dtype  \n",
      "---  ------                    --------------  -----  \n",
      " 0   course_title              1000 non-null   object \n",
      " 1   course_organization       1000 non-null   object \n",
      " 2   course_certificate_type   1000 non-null   object \n",
      " 3   course_time               1000 non-null   object \n",
      " 4   course_rating             994 non-null    float64\n",
      " 5   course_reviews_num        994 non-null    object \n",
      " 6   course_difficulty         1000 non-null   object \n",
      " 7   course_url                1000 non-null   object \n",
      " 8   course_students_enrolled  959 non-null    object \n",
      " 9   course_skills             1000 non-null   object \n",
      " 10  course_summary            1000 non-null   object \n",
      " 11  course_description        999 non-null    object \n",
      "dtypes: float64(1), object(11)\n",
      "memory usage: 93.9+ KB\n"
     ]
    }
   ],
   "source": [
    "data.info()"
   ]
  },
  {
   "cell_type": "code",
   "execution_count": 5,
   "id": "65c2dc88",
   "metadata": {
    "papermill": {
     "duration": 0.068015,
     "end_time": "2022-01-26T14:19:45.190768",
     "exception": false,
     "start_time": "2022-01-26T14:19:45.122753",
     "status": "completed"
    },
    "tags": []
   },
   "outputs": [
    {
     "data": {
      "text/plain": [
       "course_title                 0\n",
       "course_organization          0\n",
       "course_certificate_type      0\n",
       "course_time                  0\n",
       "course_rating                6\n",
       "course_reviews_num           6\n",
       "course_difficulty            0\n",
       "course_url                   0\n",
       "course_students_enrolled    41\n",
       "course_skills                0\n",
       "course_summary               0\n",
       "course_description           1\n",
       "dtype: int64"
      ]
     },
     "execution_count": 5,
     "metadata": {},
     "output_type": "execute_result"
    }
   ],
   "source": [
    "data.isnull().sum()"
   ]
  },
  {
   "cell_type": "code",
   "execution_count": 6,
   "id": "1fa17aa6",
   "metadata": {
    "papermill": {
     "duration": 0.064492,
     "end_time": "2022-01-26T14:19:45.306882",
     "exception": false,
     "start_time": "2022-01-26T14:19:45.242390",
     "status": "completed"
    },
    "tags": []
   },
   "outputs": [
    {
     "data": {
      "text/plain": [
       "course_difficulty\n",
       "Beginner        685\n",
       "Intermediate    199\n",
       "Mixed            80\n",
       "Advanced         36\n",
       "Name: count, dtype: int64"
      ]
     },
     "execution_count": 6,
     "metadata": {},
     "output_type": "execute_result"
    }
   ],
   "source": [
    "data[\"course_difficulty\"].value_counts()"
   ]
  },
  {
   "cell_type": "code",
   "execution_count": 7,
   "id": "899491c8",
   "metadata": {
    "papermill": {
     "duration": 0.064131,
     "end_time": "2022-01-26T14:19:45.422886",
     "exception": false,
     "start_time": "2022-01-26T14:19:45.358755",
     "status": "completed"
    },
    "tags": []
   },
   "outputs": [
    {
     "data": {
      "text/plain": [
       "course_rating\n",
       "4.7    291\n",
       "4.8    289\n",
       "4.6    173\n",
       "4.9     86\n",
       "4.5     81\n",
       "4.4     34\n",
       "4.3     14\n",
       "4.2     10\n",
       "3.9      4\n",
       "4.0      3\n",
       "5.0      3\n",
       "3.8      1\n",
       "3.0      1\n",
       "2.8      1\n",
       "2.7      1\n",
       "3.7      1\n",
       "3.3      1\n",
       "Name: count, dtype: int64"
      ]
     },
     "execution_count": 7,
     "metadata": {},
     "output_type": "execute_result"
    }
   ],
   "source": [
    "data[\"course_rating\"].value_counts()"
   ]
  },
  {
   "cell_type": "code",
   "execution_count": 8,
   "id": "dab334a6",
   "metadata": {
    "papermill": {
     "duration": 0.064827,
     "end_time": "2022-01-26T14:19:45.540088",
     "exception": false,
     "start_time": "2022-01-26T14:19:45.475261",
     "status": "completed"
    },
    "tags": []
   },
   "outputs": [
    {
     "data": {
      "text/plain": [
       "course_organization\n",
       "Google                                             96\n",
       "IBM                                                78\n",
       "University of Pennsylvania                         55\n",
       "DeepLearning.AI                                    43\n",
       "Google Cloud                                       35\n",
       "                                                   ..\n",
       "Google - Spectrum Sharing                           1\n",
       "UNSW Sydney (The University of New South Wales)     1\n",
       "University of Arizona                               1\n",
       "Politecnico di Milano                               1\n",
       "University of Houston                               1\n",
       "Name: count, Length: 159, dtype: int64"
      ]
     },
     "execution_count": 8,
     "metadata": {},
     "output_type": "execute_result"
    }
   ],
   "source": [
    "data[\"course_organization\"].value_counts()"
   ]
  },
  {
   "cell_type": "code",
   "execution_count": 9,
   "id": "cf4e4a14",
   "metadata": {
    "papermill": {
     "duration": 0.064954,
     "end_time": "2022-01-26T14:19:45.658504",
     "exception": false,
     "start_time": "2022-01-26T14:19:45.593550",
     "status": "completed"
    },
    "tags": []
   },
   "outputs": [
    {
     "data": {
      "text/plain": [
       "0      (ISC)² Systems Security Certified Practitioner...\n",
       "1                               .NET FullStack Developer\n",
       "2      21st Century Energy Transition: how do we make...\n",
       "3      A Crash Course in Causality:  Inferring Causal...\n",
       "4                                       A life with ADHD\n",
       "                             ...                        \n",
       "995    Étudier en France: French Intermediate course ...\n",
       "996    Цифровий маркетинг і електронна комерція від G...\n",
       "997                           تحليلات البيانات من Google\n",
       "998    用 Python 做商管程式設計（一）(Programming for Business C...\n",
       "999    用 Python 做商管程式設計（二）(Programming for Business C...\n",
       "Name: course_title, Length: 1000, dtype: object"
      ]
     },
     "execution_count": 9,
     "metadata": {},
     "output_type": "execute_result"
    }
   ],
   "source": [
    "data[\"course_title\"]"
   ]
  },
  {
   "cell_type": "markdown",
   "id": "689fdeab",
   "metadata": {
    "papermill": {
     "duration": 0.053402,
     "end_time": "2022-01-26T14:19:45.765943",
     "exception": false,
     "start_time": "2022-01-26T14:19:45.712541",
     "status": "completed"
    },
    "tags": []
   },
   "source": [
    "# Required Columns for System"
   ]
  },
  {
   "cell_type": "code",
   "execution_count": 10,
   "id": "42f0e96a",
   "metadata": {
    "papermill": {
     "duration": 0.064324,
     "end_time": "2022-01-26T14:19:45.991385",
     "exception": false,
     "start_time": "2022-01-26T14:19:45.927061",
     "status": "completed"
    },
    "tags": []
   },
   "outputs": [],
   "source": [
    "df = data[[\"course_title\", \"course_difficulty\", \"course_description\", \"course_skills\"]]"
   ]
  },
  {
   "cell_type": "code",
   "execution_count": 11,
   "id": "04cc92ed",
   "metadata": {
    "papermill": {
     "duration": 0.067641,
     "end_time": "2022-01-26T14:19:46.114589",
     "exception": false,
     "start_time": "2022-01-26T14:19:46.046948",
     "status": "completed"
    },
    "tags": []
   },
   "outputs": [
    {
     "data": {
      "text/html": [
       "<div>\n",
       "<style scoped>\n",
       "    .dataframe tbody tr th:only-of-type {\n",
       "        vertical-align: middle;\n",
       "    }\n",
       "\n",
       "    .dataframe tbody tr th {\n",
       "        vertical-align: top;\n",
       "    }\n",
       "\n",
       "    .dataframe thead th {\n",
       "        text-align: right;\n",
       "    }\n",
       "</style>\n",
       "<table border=\"1\" class=\"dataframe\">\n",
       "  <thead>\n",
       "    <tr style=\"text-align: right;\">\n",
       "      <th></th>\n",
       "      <th>course_title</th>\n",
       "      <th>course_organization</th>\n",
       "      <th>course_certificate_type</th>\n",
       "      <th>course_time</th>\n",
       "      <th>course_rating</th>\n",
       "      <th>course_reviews_num</th>\n",
       "      <th>course_difficulty</th>\n",
       "      <th>course_url</th>\n",
       "      <th>course_students_enrolled</th>\n",
       "      <th>course_skills</th>\n",
       "      <th>course_summary</th>\n",
       "      <th>course_description</th>\n",
       "    </tr>\n",
       "  </thead>\n",
       "  <tbody>\n",
       "    <tr>\n",
       "      <th>0</th>\n",
       "      <td>(ISC)² Systems Security Certified Practitioner...</td>\n",
       "      <td>ISC2</td>\n",
       "      <td>Specialization</td>\n",
       "      <td>3 - 6 Months</td>\n",
       "      <td>4.7</td>\n",
       "      <td>492</td>\n",
       "      <td>Beginner</td>\n",
       "      <td>https://www.coursera.org/specializations/sscp-...</td>\n",
       "      <td>6,958</td>\n",
       "      <td>['Risk Management', 'Access Control', 'Asset',...</td>\n",
       "      <td>[]</td>\n",
       "      <td>Pursue better IT security job opportunities an...</td>\n",
       "    </tr>\n",
       "    <tr>\n",
       "      <th>1</th>\n",
       "      <td>.NET FullStack Developer</td>\n",
       "      <td>Board Infinity</td>\n",
       "      <td>Specialization</td>\n",
       "      <td>1 - 3 Months</td>\n",
       "      <td>4.3</td>\n",
       "      <td>51</td>\n",
       "      <td>Intermediate</td>\n",
       "      <td>https://www.coursera.org/specializations/dot-n...</td>\n",
       "      <td>2,531</td>\n",
       "      <td>['Web API', 'Web Development', 'Cascading Styl...</td>\n",
       "      <td>['Master .NET full stack web dev: from .NET co...</td>\n",
       "      <td>Develop the proficiency required to design and...</td>\n",
       "    </tr>\n",
       "    <tr>\n",
       "      <th>2</th>\n",
       "      <td>21st Century Energy Transition: how do we make...</td>\n",
       "      <td>University of Alberta</td>\n",
       "      <td>Course</td>\n",
       "      <td>1 - 3 Months</td>\n",
       "      <td>4.8</td>\n",
       "      <td>62</td>\n",
       "      <td>Beginner</td>\n",
       "      <td>https://www.coursera.org/learn/21st-century-en...</td>\n",
       "      <td>4,377</td>\n",
       "      <td>[]</td>\n",
       "      <td>['Understand the complexity of systems supplyi...</td>\n",
       "      <td>Affordable, abundant and reliable energy is fu...</td>\n",
       "    </tr>\n",
       "    <tr>\n",
       "      <th>3</th>\n",
       "      <td>A Crash Course in Causality:  Inferring Causal...</td>\n",
       "      <td>University of Pennsylvania</td>\n",
       "      <td>Course</td>\n",
       "      <td>1 - 3 Months</td>\n",
       "      <td>4.7</td>\n",
       "      <td>517</td>\n",
       "      <td>Intermediate</td>\n",
       "      <td>https://www.coursera.org/learn/crash-course-in...</td>\n",
       "      <td>39,004</td>\n",
       "      <td>['Instrumental Variable', 'Propensity Score Ma...</td>\n",
       "      <td>[]</td>\n",
       "      <td>We have all heard the phrase “correlation does...</td>\n",
       "    </tr>\n",
       "    <tr>\n",
       "      <th>4</th>\n",
       "      <td>A life with ADHD</td>\n",
       "      <td>University of Geneva</td>\n",
       "      <td>Course</td>\n",
       "      <td>1 - 3 Months</td>\n",
       "      <td>NaN</td>\n",
       "      <td>NaN</td>\n",
       "      <td>Beginner</td>\n",
       "      <td>https://www.coursera.org/learn/life-with-adhd</td>\n",
       "      <td>NaN</td>\n",
       "      <td>['differential diagnosis and comorbidities', '...</td>\n",
       "      <td>[' Understand what ADHD is and the challenges ...</td>\n",
       "      <td>What is ADHD and what are the challenges that ...</td>\n",
       "    </tr>\n",
       "  </tbody>\n",
       "</table>\n",
       "</div>"
      ],
      "text/plain": [
       "                                        course_title  \\\n",
       "0  (ISC)² Systems Security Certified Practitioner...   \n",
       "1                           .NET FullStack Developer   \n",
       "2  21st Century Energy Transition: how do we make...   \n",
       "3  A Crash Course in Causality:  Inferring Causal...   \n",
       "4                                   A life with ADHD   \n",
       "\n",
       "          course_organization course_certificate_type   course_time  \\\n",
       "0                        ISC2          Specialization  3 - 6 Months   \n",
       "1              Board Infinity          Specialization  1 - 3 Months   \n",
       "2       University of Alberta                  Course  1 - 3 Months   \n",
       "3  University of Pennsylvania                  Course  1 - 3 Months   \n",
       "4        University of Geneva                  Course  1 - 3 Months   \n",
       "\n",
       "   course_rating course_reviews_num course_difficulty  \\\n",
       "0            4.7                492          Beginner   \n",
       "1            4.3                 51      Intermediate   \n",
       "2            4.8                 62          Beginner   \n",
       "3            4.7                517      Intermediate   \n",
       "4            NaN                NaN          Beginner   \n",
       "\n",
       "                                          course_url course_students_enrolled  \\\n",
       "0  https://www.coursera.org/specializations/sscp-...                    6,958   \n",
       "1  https://www.coursera.org/specializations/dot-n...                    2,531   \n",
       "2  https://www.coursera.org/learn/21st-century-en...                    4,377   \n",
       "3  https://www.coursera.org/learn/crash-course-in...                   39,004   \n",
       "4      https://www.coursera.org/learn/life-with-adhd                      NaN   \n",
       "\n",
       "                                       course_skills  \\\n",
       "0  ['Risk Management', 'Access Control', 'Asset',...   \n",
       "1  ['Web API', 'Web Development', 'Cascading Styl...   \n",
       "2                                                 []   \n",
       "3  ['Instrumental Variable', 'Propensity Score Ma...   \n",
       "4  ['differential diagnosis and comorbidities', '...   \n",
       "\n",
       "                                      course_summary  \\\n",
       "0                                                 []   \n",
       "1  ['Master .NET full stack web dev: from .NET co...   \n",
       "2  ['Understand the complexity of systems supplyi...   \n",
       "3                                                 []   \n",
       "4  [' Understand what ADHD is and the challenges ...   \n",
       "\n",
       "                                  course_description  \n",
       "0  Pursue better IT security job opportunities an...  \n",
       "1  Develop the proficiency required to design and...  \n",
       "2  Affordable, abundant and reliable energy is fu...  \n",
       "3  We have all heard the phrase “correlation does...  \n",
       "4  What is ADHD and what are the challenges that ...  "
      ]
     },
     "execution_count": 11,
     "metadata": {},
     "output_type": "execute_result"
    }
   ],
   "source": [
    "data.head(5)"
   ]
  },
  {
   "cell_type": "markdown",
   "id": "631aeb3b",
   "metadata": {
    "papermill": {
     "duration": 0.052809,
     "end_time": "2022-01-26T14:19:46.221289",
     "exception": false,
     "start_time": "2022-01-26T14:19:46.168480",
     "status": "completed"
    },
    "tags": []
   },
   "source": [
    "## Data Preprocessing"
   ]
  },
  {
   "cell_type": "code",
   "execution_count": 12,
   "id": "41d8eb46-529a-45b7-91a9-2e8720622fb7",
   "metadata": {},
   "outputs": [],
   "source": [
    "# Filling NA values in course_description column to an empty string\n",
    "data[\"course_description\"].fillna(\" \", inplace=True)"
   ]
  },
  {
   "cell_type": "code",
   "execution_count": 13,
   "id": "e0df7188",
   "metadata": {
    "papermill": {
     "duration": 0.177814,
     "end_time": "2022-01-26T14:19:46.453980",
     "exception": false,
     "start_time": "2022-01-26T14:19:46.276166",
     "status": "completed"
    },
    "tags": []
   },
   "outputs": [],
   "source": [
    "# Removing spaces and certain characters from the 'course_title' column\n",
    "data.loc[:, \"course_title\"] = data[\"course_title\"].apply(\n",
    "    lambda x: x.replace(\" \", \"\").replace(\":\", \"\")\n",
    ")\n",
    "\n",
    "# Removing spaces and certain characters from the 'course_description' column\n",
    "data.loc[:, \"course_description\"] = data[\"course_description\"].apply(\n",
    "    lambda x: x.replace(\" \", \"\")\n",
    "    .replace(\"_\", \"\")\n",
    "    .replace(\":\", \"\")\n",
    "    .replace(\"(\", \"\")\n",
    "    .replace(\")\", \"\")\n",
    ")\n",
    "\n",
    "# Removing parenthesis from the 'course_skills' column\n",
    "data.loc[:, \"course_skills\"] = data[\"course_skills\"].apply(\n",
    "    lambda x: x.replace(\"(\", \"\").replace(\")\", \"\")\n",
    ")"
   ]
  },
  {
   "cell_type": "code",
   "execution_count": 14,
   "id": "624470d3",
   "metadata": {
    "papermill": {
     "duration": 0.068556,
     "end_time": "2022-01-26T14:19:46.576919",
     "exception": false,
     "start_time": "2022-01-26T14:19:46.508363",
     "status": "completed"
    },
    "tags": []
   },
   "outputs": [
    {
     "data": {
      "text/html": [
       "<div>\n",
       "<style scoped>\n",
       "    .dataframe tbody tr th:only-of-type {\n",
       "        vertical-align: middle;\n",
       "    }\n",
       "\n",
       "    .dataframe tbody tr th {\n",
       "        vertical-align: top;\n",
       "    }\n",
       "\n",
       "    .dataframe thead th {\n",
       "        text-align: right;\n",
       "    }\n",
       "</style>\n",
       "<table border=\"1\" class=\"dataframe\">\n",
       "  <thead>\n",
       "    <tr style=\"text-align: right;\">\n",
       "      <th></th>\n",
       "      <th>course_title</th>\n",
       "      <th>course_organization</th>\n",
       "      <th>course_certificate_type</th>\n",
       "      <th>course_time</th>\n",
       "      <th>course_rating</th>\n",
       "      <th>course_reviews_num</th>\n",
       "      <th>course_difficulty</th>\n",
       "      <th>course_url</th>\n",
       "      <th>course_students_enrolled</th>\n",
       "      <th>course_skills</th>\n",
       "      <th>course_summary</th>\n",
       "      <th>course_description</th>\n",
       "    </tr>\n",
       "  </thead>\n",
       "  <tbody>\n",
       "    <tr>\n",
       "      <th>0</th>\n",
       "      <td>(ISC)²SystemsSecurityCertifiedPractitioner(SSCP)</td>\n",
       "      <td>ISC2</td>\n",
       "      <td>Specialization</td>\n",
       "      <td>3 - 6 Months</td>\n",
       "      <td>4.7</td>\n",
       "      <td>492</td>\n",
       "      <td>Beginner</td>\n",
       "      <td>https://www.coursera.org/specializations/sscp-...</td>\n",
       "      <td>6,958</td>\n",
       "      <td>['Risk Management', 'Access Control', 'Asset',...</td>\n",
       "      <td>[]</td>\n",
       "      <td>PursuebetterITsecurityjobopportunitiesandprove...</td>\n",
       "    </tr>\n",
       "    <tr>\n",
       "      <th>1</th>\n",
       "      <td>.NETFullStackDeveloper</td>\n",
       "      <td>Board Infinity</td>\n",
       "      <td>Specialization</td>\n",
       "      <td>1 - 3 Months</td>\n",
       "      <td>4.3</td>\n",
       "      <td>51</td>\n",
       "      <td>Intermediate</td>\n",
       "      <td>https://www.coursera.org/specializations/dot-n...</td>\n",
       "      <td>2,531</td>\n",
       "      <td>['Web API', 'Web Development', 'Cascading Styl...</td>\n",
       "      <td>['Master .NET full stack web dev: from .NET co...</td>\n",
       "      <td>Developtheproficiencyrequiredtodesignanddevelo...</td>\n",
       "    </tr>\n",
       "    <tr>\n",
       "      <th>2</th>\n",
       "      <td>21stCenturyEnergyTransitionhowdowemakeitwork?</td>\n",
       "      <td>University of Alberta</td>\n",
       "      <td>Course</td>\n",
       "      <td>1 - 3 Months</td>\n",
       "      <td>4.8</td>\n",
       "      <td>62</td>\n",
       "      <td>Beginner</td>\n",
       "      <td>https://www.coursera.org/learn/21st-century-en...</td>\n",
       "      <td>4,377</td>\n",
       "      <td>[]</td>\n",
       "      <td>['Understand the complexity of systems supplyi...</td>\n",
       "      <td>Affordable,abundantandreliableenergyisfundamen...</td>\n",
       "    </tr>\n",
       "    <tr>\n",
       "      <th>3</th>\n",
       "      <td>ACrashCourseinCausalityInferringCausalEffectsf...</td>\n",
       "      <td>University of Pennsylvania</td>\n",
       "      <td>Course</td>\n",
       "      <td>1 - 3 Months</td>\n",
       "      <td>4.7</td>\n",
       "      <td>517</td>\n",
       "      <td>Intermediate</td>\n",
       "      <td>https://www.coursera.org/learn/crash-course-in...</td>\n",
       "      <td>39,004</td>\n",
       "      <td>['Instrumental Variable', 'Propensity Score Ma...</td>\n",
       "      <td>[]</td>\n",
       "      <td>Wehaveallheardthephrase“correlationdoesnotequa...</td>\n",
       "    </tr>\n",
       "    <tr>\n",
       "      <th>4</th>\n",
       "      <td>AlifewithADHD</td>\n",
       "      <td>University of Geneva</td>\n",
       "      <td>Course</td>\n",
       "      <td>1 - 3 Months</td>\n",
       "      <td>NaN</td>\n",
       "      <td>NaN</td>\n",
       "      <td>Beginner</td>\n",
       "      <td>https://www.coursera.org/learn/life-with-adhd</td>\n",
       "      <td>NaN</td>\n",
       "      <td>['differential diagnosis and comorbidities', '...</td>\n",
       "      <td>[' Understand what ADHD is and the challenges ...</td>\n",
       "      <td>WhatisADHDandwhatarethechallengesthatcomewithi...</td>\n",
       "    </tr>\n",
       "  </tbody>\n",
       "</table>\n",
       "</div>"
      ],
      "text/plain": [
       "                                        course_title  \\\n",
       "0   (ISC)²SystemsSecurityCertifiedPractitioner(SSCP)   \n",
       "1                             .NETFullStackDeveloper   \n",
       "2      21stCenturyEnergyTransitionhowdowemakeitwork?   \n",
       "3  ACrashCourseinCausalityInferringCausalEffectsf...   \n",
       "4                                      AlifewithADHD   \n",
       "\n",
       "          course_organization course_certificate_type   course_time  \\\n",
       "0                        ISC2          Specialization  3 - 6 Months   \n",
       "1              Board Infinity          Specialization  1 - 3 Months   \n",
       "2       University of Alberta                  Course  1 - 3 Months   \n",
       "3  University of Pennsylvania                  Course  1 - 3 Months   \n",
       "4        University of Geneva                  Course  1 - 3 Months   \n",
       "\n",
       "   course_rating course_reviews_num course_difficulty  \\\n",
       "0            4.7                492          Beginner   \n",
       "1            4.3                 51      Intermediate   \n",
       "2            4.8                 62          Beginner   \n",
       "3            4.7                517      Intermediate   \n",
       "4            NaN                NaN          Beginner   \n",
       "\n",
       "                                          course_url course_students_enrolled  \\\n",
       "0  https://www.coursera.org/specializations/sscp-...                    6,958   \n",
       "1  https://www.coursera.org/specializations/dot-n...                    2,531   \n",
       "2  https://www.coursera.org/learn/21st-century-en...                    4,377   \n",
       "3  https://www.coursera.org/learn/crash-course-in...                   39,004   \n",
       "4      https://www.coursera.org/learn/life-with-adhd                      NaN   \n",
       "\n",
       "                                       course_skills  \\\n",
       "0  ['Risk Management', 'Access Control', 'Asset',...   \n",
       "1  ['Web API', 'Web Development', 'Cascading Styl...   \n",
       "2                                                 []   \n",
       "3  ['Instrumental Variable', 'Propensity Score Ma...   \n",
       "4  ['differential diagnosis and comorbidities', '...   \n",
       "\n",
       "                                      course_summary  \\\n",
       "0                                                 []   \n",
       "1  ['Master .NET full stack web dev: from .NET co...   \n",
       "2  ['Understand the complexity of systems supplyi...   \n",
       "3                                                 []   \n",
       "4  [' Understand what ADHD is and the challenges ...   \n",
       "\n",
       "                                  course_description  \n",
       "0  PursuebetterITsecurityjobopportunitiesandprove...  \n",
       "1  Developtheproficiencyrequiredtodesignanddevelo...  \n",
       "2  Affordable,abundantandreliableenergyisfundamen...  \n",
       "3  Wehaveallheardthephrase“correlationdoesnotequa...  \n",
       "4  WhatisADHDandwhatarethechallengesthatcomewithi...  "
      ]
     },
     "execution_count": 14,
     "metadata": {},
     "output_type": "execute_result"
    }
   ],
   "source": [
    "data.head(5)"
   ]
  },
  {
   "cell_type": "code",
   "execution_count": 15,
   "id": "7efa10a9",
   "metadata": {
    "papermill": {
     "duration": 0.076499,
     "end_time": "2022-01-26T14:19:46.823340",
     "exception": false,
     "start_time": "2022-01-26T14:19:46.746841",
     "status": "completed"
    },
    "tags": []
   },
   "outputs": [
    {
     "data": {
      "text/plain": [
       "\".NETFullStackDeveloperIntermediateDeveloptheproficiencyrequiredtodesignanddevelopcomprehensive,scalable,andhigh-performingapplicationswiththe.NETframeworkviathisin-depthspecialization.Thecurriculumissegmentedintothreeintensivecourses\\r\\n.NETFullStackFoundation\\r\\nUnderstandthebasicsof.NETanditssignificantcomponents.\\r\\nHarnessingtheC#programminglanguage,masteringeverythingfrombasicsyntaxtocomplexstructures.\\r\\nConstructingbothwebanddesktopapplicationswithanunparalleledunderstandingof.NET'scapacities.\\r\\nFrontendDevelopmentusingReact\\r\\nDesigningwebpagesemployingthecoreprinciplesofHTMLandCSS.\\r\\nUtilizingJavaScriptfordynamicandinteractivefunctionalities,coveringeverythingfrombasicvariablestocomplexfunctions.\\r\\nConstructingdynamicandinteractiveUIsusingReact'scoreconceptssuchascomponents,state,props,andJSX.\\r\\nBackendDevelopmentusingASP.NET\\r\\nMastertheASP.NETCoreframework,designedformodernwebapplications.\\r\\nExploreASP.NETMVCandcraftwebapplicationsfollowingMVCpatterns.\\r\\nDelveintoASP.NETWebAPItodesignandimplementRESTfulwebservices.\\r\\nBytheend,youwillbeproficientinleveraging.NETtechnologies,designingwebapplicationsusingASP.NETwithReactintegratedonthefrontend,andbuildingRESTfulwebAPIsusingASP.NETCore.Equipyourselftoconstructscalable,high-performancewebapplicationsthatalignwithmodernbusinessdemands.\\r\\nAppliedLearningProject\\r\\nOurprogramishighlyfocusedonpractical,hands-onlearning.Weunderstandthatdeveloperslearnbestbydoing,soourcoursesandmodulesaredesignedtohelplearnersapplywhattheylearninreal-worldscenarios.OurinstructorsareexperienceddeveloperswhohaveworkedonnumerousFrontendprojectsandarewell-equippedtoguidelearnersthroughthepracticalaspectsofFrontendDevelopment&Backendwith.NetTechnologies.\\r\\n['Web API', 'Web Development', 'Cascading Style Sheets CSS', 'HTML', 'React Web Framework', 'RESTful APIs', 'C# programming', 'API Integration', 'Model–View–Controller MVC', 'asp.net']\""
      ]
     },
     "execution_count": 15,
     "metadata": {},
     "output_type": "execute_result"
    }
   ],
   "source": [
    "# Creating a new column 'tags' by concatenating values from different columns\n",
    "data[\"tags\"] = (\n",
    "    data[\"course_title\"]\n",
    "    + data[\"course_difficulty\"]\n",
    "    + data[\"course_description\"]\n",
    "    + data[\"course_skills\"]\n",
    ")\n",
    "\n",
    "data[\"tags\"].iloc[1]"
   ]
  },
  {
   "cell_type": "code",
   "execution_count": 16,
   "id": "b3807261",
   "metadata": {
    "papermill": {
     "duration": 0.064683,
     "end_time": "2022-01-26T14:19:47.301174",
     "exception": false,
     "start_time": "2022-01-26T14:19:47.236491",
     "status": "completed"
    },
    "tags": []
   },
   "outputs": [],
   "source": [
    "# Creating a new DataFrame 'new_df' based on existing data\n",
    "new_df = data[[\"course_title\", \"tags\"]].copy()\n",
    "\n",
    "# Replacing commas in the 'tags' column with spaces\n",
    "new_df[\"tags\"] = data[\"tags\"].str.replace(\",\", \" \")\n",
    "\n",
    "# Replacing commas in the 'course_title' column with spaces\n",
    "new_df[\"course_title\"] = data[\"course_title\"].str.replace(\",\", \" \")\n",
    "\n",
    "# Renaming the 'course_title' column to 'course_name'\n",
    "new_df.rename(columns={\"course_title\": \"course_name\"}, inplace=True)\n",
    "\n",
    "# Converting the 'tags' column to string type\n",
    "new_df[\"tags\"] = new_df[\"tags\"].astype(str)\n",
    "\n",
    "# Lowercasing the values in the 'tags' column\n",
    "new_df[\"tags\"] = new_df[\"tags\"].apply(lambda x: x.lower())"
   ]
  },
  {
   "cell_type": "markdown",
   "id": "4a5083c5",
   "metadata": {
    "papermill": {
     "duration": 0.060035,
     "end_time": "2022-01-26T14:19:48.362969",
     "exception": false,
     "start_time": "2022-01-26T14:19:48.302934",
     "status": "completed"
    },
    "tags": []
   },
   "source": [
    "# Text Vectorization"
   ]
  },
  {
   "cell_type": "code",
   "execution_count": 17,
   "id": "4e13af12",
   "metadata": {
    "papermill": {
     "duration": 0.201577,
     "end_time": "2022-01-26T14:19:48.622967",
     "exception": false,
     "start_time": "2022-01-26T14:19:48.421390",
     "status": "completed"
    },
    "tags": []
   },
   "outputs": [],
   "source": [
    "from sklearn.feature_extraction.text import CountVectorizer"
   ]
  },
  {
   "cell_type": "code",
   "execution_count": 18,
   "id": "e6372627",
   "metadata": {
    "papermill": {
     "duration": 0.06615,
     "end_time": "2022-01-26T14:19:48.748745",
     "exception": false,
     "start_time": "2022-01-26T14:19:48.682595",
     "status": "completed"
    },
    "tags": []
   },
   "outputs": [],
   "source": [
    "cv = CountVectorizer(max_features=5000, stop_words=\"english\")"
   ]
  },
  {
   "cell_type": "code",
   "execution_count": 19,
   "id": "7d43550e",
   "metadata": {
    "papermill": {
     "duration": 1.030812,
     "end_time": "2022-01-26T14:19:49.837694",
     "exception": false,
     "start_time": "2022-01-26T14:19:48.806882",
     "status": "completed"
    },
    "tags": []
   },
   "outputs": [],
   "source": [
    "vectors = cv.fit_transform(new_df[\"tags\"]).toarray()"
   ]
  },
  {
   "cell_type": "markdown",
   "id": "0cfa085e",
   "metadata": {
    "papermill": {
     "duration": 0.059295,
     "end_time": "2022-01-26T14:19:49.956538",
     "exception": false,
     "start_time": "2022-01-26T14:19:49.897243",
     "status": "completed"
    },
    "tags": []
   },
   "source": [
    "# Stemming Process"
   ]
  },
  {
   "cell_type": "code",
   "execution_count": 20,
   "id": "a0b78242-eebd-4f39-beae-3be09371b22a",
   "metadata": {},
   "outputs": [],
   "source": [
    "import nltk\n",
    "from nltk.stem.porter import PorterStemmer\n",
    "\n",
    "# Initialize the Porter stemmer\n",
    "ps = PorterStemmer()\n",
    "\n",
    "\n",
    "# Define the stemming function\n",
    "def stem(text):\n",
    "    stemmed_words = []\n",
    "\n",
    "    # Tokenize the text and stem each word\n",
    "    for word in text.split():\n",
    "        stemmed_word = ps.stem(word)\n",
    "        stemmed_words.append(stemmed_word)\n",
    "\n",
    "    # Join the stemmed words back into a single string\n",
    "    return \" \".join(stemmed_words)\n",
    "\n",
    "\n",
    "# Apply stemming to the 'tags' column\n",
    "new_df[\"tags\"] = new_df[\"tags\"].apply(stem)"
   ]
  },
  {
   "cell_type": "markdown",
   "id": "e6ee86c9",
   "metadata": {
    "papermill": {
     "duration": 0.059879,
     "end_time": "2022-01-26T14:20:09.952432",
     "exception": false,
     "start_time": "2022-01-26T14:20:09.892553",
     "status": "completed"
    },
    "tags": []
   },
   "source": [
    "# Similarity Measure "
   ]
  },
  {
   "cell_type": "code",
   "execution_count": 21,
   "id": "9b4f80e4",
   "metadata": {
    "papermill": {
     "duration": 0.067769,
     "end_time": "2022-01-26T14:20:10.079103",
     "exception": false,
     "start_time": "2022-01-26T14:20:10.011334",
     "status": "completed"
    },
    "tags": []
   },
   "outputs": [],
   "source": [
    "from sklearn.metrics.pairwise import cosine_similarity"
   ]
  },
  {
   "cell_type": "code",
   "execution_count": 22,
   "id": "26fcc651",
   "metadata": {
    "papermill": {
     "duration": 1.335405,
     "end_time": "2022-01-26T14:20:11.473497",
     "exception": false,
     "start_time": "2022-01-26T14:20:10.138092",
     "status": "completed"
    },
    "tags": []
   },
   "outputs": [],
   "source": [
    "similarity = cosine_similarity(vectors)"
   ]
  },
  {
   "cell_type": "markdown",
   "id": "100bd489",
   "metadata": {
    "papermill": {
     "duration": 0.059252,
     "end_time": "2022-01-26T14:20:11.619088",
     "exception": false,
     "start_time": "2022-01-26T14:20:11.559836",
     "status": "completed"
    },
    "tags": []
   },
   "source": [
    "# Recommendation Function"
   ]
  },
  {
   "cell_type": "code",
   "execution_count": 23,
   "id": "3e3c6aed-fad3-49c2-aaf7-682f552b2bfc",
   "metadata": {},
   "outputs": [],
   "source": [
    "import re\n",
    "\n",
    "\n",
    "def preprocess_text(text):\n",
    "    if isinstance(text, str):\n",
    "        # Convert to lowercase\n",
    "        text = text.lower()\n",
    "        # Remove special characters and punctuation\n",
    "        text = re.sub(r\"[^a-zA-Z0-9\\s]\", \"\", text)\n",
    "        # Remove extra whitespaces\n",
    "        text = re.sub(r\"\\s+\", \" \", text).strip()\n",
    "    return text\n",
    "\n",
    "\n",
    "def recommend_course(input_string, df, cv, vectors):\n",
    "    # Preprocess input string\n",
    "    input_string = preprocess_text(input_string)\n",
    "    input_string = stem(input_string)\n",
    "    input_vector = cv.transform([input_string]).toarray()\n",
    "\n",
    "    # Calculate similarity with input string\n",
    "    input_similarity = cosine_similarity(input_vector, vectors)\n",
    "\n",
    "    # Find top similar courses\n",
    "    similar_courses = []\n",
    "    for i in range(len(input_similarity[0])):\n",
    "        similar_courses.append((df.iloc[i], input_similarity[0][i]))\n",
    "\n",
    "    # Sort and return top recommendations\n",
    "    similar_courses = sorted(similar_courses, reverse=True, key=lambda x: x[1])\n",
    "    return similar_courses[:3]"
   ]
  },
  {
   "cell_type": "code",
   "execution_count": 24,
   "id": "935c4775-f9ee-4a97-ac3c-54d9e286dd2f",
   "metadata": {},
   "outputs": [
    {
     "name": "stdout",
     "output_type": "stream",
     "text": [
      "course_title                                    LearntoProgramTheFundamentals\n",
      "course_organization                                     University of Toronto\n",
      "course_certificate_type                                                Course\n",
      "course_time                                                      1 - 3 Months\n",
      "course_rating                                                             4.7\n",
      "course_reviews_num                                                       6.2k\n",
      "course_difficulty                                                    Beginner\n",
      "course_url                    https://www.coursera.org/learn/learn-to-program\n",
      "course_students_enrolled                                              421,737\n",
      "course_skills               ['Python Syntax And Semantics', 'Computer Prog...\n",
      "course_summary                                                             []\n",
      "course_description          Behindeverymouseclickandtouch-screentap,therei...\n",
      "tags                        LearntoProgramTheFundamentalsBeginnerBehindeve...\n",
      "Name: 645, dtype: object\n",
      "\n",
      "course_title                                             PythonDataStructures\n",
      "course_organization                                    University of Michigan\n",
      "course_certificate_type                                                Course\n",
      "course_time                                                      1 - 3 Months\n",
      "course_rating                                                             4.9\n",
      "course_reviews_num                                                      93.9k\n",
      "course_difficulty                                                    Beginner\n",
      "course_url                         https://www.coursera.org/learn/python-data\n",
      "course_students_enrolled                                              996,497\n",
      "course_skills               ['Python Syntax And Semantics', 'Data Structur...\n",
      "course_summary              ['Explain the principles of data structures & ...\n",
      "course_description          Thiscoursewillintroducethecoredatastructuresof...\n",
      "tags                        PythonDataStructuresBeginnerThiscoursewillintr...\n",
      "Name: 822, dtype: object\n",
      "\n",
      "course_title                                  IntroductiontoPythonProgramming\n",
      "course_organization                                University of Pennsylvania\n",
      "course_certificate_type                                                Course\n",
      "course_time                                                       1 - 4 Weeks\n",
      "course_rating                                                             4.7\n",
      "course_reviews_num                                                        356\n",
      "course_difficulty                                                    Beginner\n",
      "course_url                  https://www.coursera.org/learn/python-programm...\n",
      "course_students_enrolled                                                7,846\n",
      "course_skills               ['Python Tools', 'Python Syntax And Semantics'...\n",
      "course_summary              ['Understand what public relations is and the ...\n",
      "course_description          Thisspecializationisidealforlearnersinterested...\n",
      "tags                        IntroductiontoPythonProgrammingBeginnerThisspe...\n",
      "Name: 604, dtype: object\n",
      "\n"
     ]
    }
   ],
   "source": [
    "recommended_courses = recommend_course(\"Python\", data, cv, vectors)\n",
    "for course_details, similarity_score in recommended_courses:\n",
    "    print(course_details)\n",
    "    print()"
   ]
  }
 ],
 "metadata": {
  "kernelspec": {
   "display_name": "Python 3 (ipykernel)",
   "language": "python",
   "name": "python3"
  },
  "language_info": {
   "codemirror_mode": {
    "name": "ipython",
    "version": 3
   },
   "file_extension": ".py",
   "mimetype": "text/x-python",
   "name": "python",
   "nbconvert_exporter": "python",
   "pygments_lexer": "ipython3",
   "version": "3.11.5"
  },
  "papermill": {
   "default_parameters": {},
   "duration": 40.65955,
   "end_time": "2022-01-26T14:20:13.730648",
   "environment_variables": {},
   "exception": null,
   "input_path": "__notebook__.ipynb",
   "output_path": "__notebook__.ipynb",
   "parameters": {},
   "start_time": "2022-01-26T14:19:33.071098",
   "version": "2.3.3"
  }
 },
 "nbformat": 4,
 "nbformat_minor": 5
}
